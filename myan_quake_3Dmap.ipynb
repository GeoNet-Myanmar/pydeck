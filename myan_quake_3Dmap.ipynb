{
 "cells": [
  {
   "cell_type": "code",
   "execution_count": 3,
   "metadata": {},
   "outputs": [],
   "source": [
    "import requests\n",
    "import pydeck as pdk\n",
    "import pandas as pd\n",
    "from vega_datasets import data as vds\n",
    "import ipywidgets\n",
    "# use palettable for colormap colors\n",
    "from palettable.cartocolors.sequential import BrwnYl_3\n",
    "import json\n",
    "\n",
    "\n",
    "# enter your api key here\n",
    "# API key required for mapbox basemap tiles\n",
    "MAPBOX_API_KEY = \"pk.eyJ1IjoidGlua29vbyIsImEiOiJja2hkY2xhM3cwMTA1MnFybndqZHlrdDRpIn0.Ise-enYN_cs4pIFmqDQlXw\"\n",
    "\n",
    "# To enable pydeck for Jupyter Notebook:\n",
    "# jupyter nbextension install --sys-prefix --symlink --overwrite --py pydeck\n",
    "# jupyter nbextension enable --sys-prefix --py pydeck"
   ]
  },
  {
   "cell_type": "code",
   "execution_count": 18,
   "metadata": {},
   "outputs": [
    {
     "name": "stdout",
     "output_type": "stream",
     "text": [
      "                       time  latitude  longitude  depth  mag magType  nst  \\\n",
      "0  2020-10-10T17:38:00.874Z   24.6316    93.4817  54.60  5.4     mww  NaN   \n",
      "1  2020-10-06T22:02:54.378Z   25.6430    94.7776  61.51  4.6      mb  NaN   \n",
      "2  2020-10-04T16:00:02.846Z   20.6448    94.4032  78.19  4.3      mb  NaN   \n",
      "3  2020-09-20T01:59:05.639Z   22.9900    93.7675  53.87  4.7     mww  NaN   \n",
      "4  2020-09-18T17:53:39.631Z   23.3836    94.5477  90.39  4.4      mb  NaN   \n",
      "\n",
      "     gap   dmin   rms  ...                   updated  \\\n",
      "0   22.0  0.846  0.59  ...  2020-10-14T23:05:44.944Z   \n",
      "1   54.0  1.472  0.84  ...  2020-10-14T04:49:12.993Z   \n",
      "2  166.0  2.123  1.05  ...  2020-10-13T18:46:39.040Z   \n",
      "3   38.0  0.379  0.78  ...  2020-10-16T00:50:02.040Z   \n",
      "4   86.0  2.767  0.46  ...  2020-10-13T18:42:28.563Z   \n",
      "\n",
      "                           place        type horizontalError depthError  \\\n",
      "0    33 km WNW of Moirāng, India  earthquake             6.0        5.2   \n",
      "1         27 km E of Phek, India  earthquake             3.7        6.3   \n",
      "2    51 km WSW of Chauk, Myanmar  earthquake             7.7        8.2   \n",
      "3     12 km NE of Falam, Myanmar  earthquake             4.8        4.3   \n",
      "4  32 km SSE of Mawlaik, Myanmar  earthquake             6.9        7.3   \n",
      "\n",
      "   magError  magNst    status  locationSource magSource  \n",
      "0     0.069    20.0  reviewed              us        us  \n",
      "1     0.062    78.0  reviewed              us        us  \n",
      "2     0.142    14.0  reviewed              us        us  \n",
      "3     0.098    10.0  reviewed              us        us  \n",
      "4     0.117    24.0  reviewed              us        us  \n",
      "\n",
      "[5 rows x 22 columns]\n"
     ]
    },
    {
     "data": {
      "application/vnd.jupyter.widget-view+json": {
       "model_id": "5049667e7098409e9718af63f245c792",
       "version_major": 2,
       "version_minor": 0
      },
      "text/plain": [
       "DeckGLWidget(google_maps_key=None, json_input='{\"initialViewState\": {\"latitude\": 22, \"longitude\": -96, \"pitch\"…"
      ]
     },
     "metadata": {},
     "output_type": "display_data"
    }
   ],
   "source": [
    "# data\n",
    "# earthquakes data from kaggle\n",
    "# the earthquakes data only includes latitude and longitude\n",
    "url = 'https://raw.githubusercontent.com/GeoNet-Myanmar/pydeck_3D_Earthquake_Myanmar/main/earthquake-data.csv'\n",
    "earthquakes = pd.read_csv(url)\n",
    "print(earthquakes.head(5))\n",
    "# view (location, zoom level, etc.)\n",
    "view = pdk.ViewState(latitude=22, longitude=-96, pitch=50, zoom=1)\n",
    "\n",
    "# layer\n",
    "hexagon_layer = pdk.Layer('HexagonLayer',\n",
    "                          data=earthquakes,\n",
    "                          get_position=['longitude', 'latitude'],\n",
    "                          auto_highlight=True,\n",
    "                          elevation_scale=50,\n",
    "                          elevation_range=[0, 3_000],\n",
    "                          radius=50_000,\n",
    "                          extruded=True)\n",
    "\n",
    "# render map\n",
    "# with no map_style, map goes to default\n",
    "myan_quake_map = pdk.Deck(layers=hexagon_layer, \n",
    "                             initial_view_state=view,\n",
    "                             mapbox_key=MAPBOX_API_KEY)\n",
    "\n",
    "# display and save map (to_html(), show())\n",
    "myan_quake_map.to_html('C:/Users/Administrater/Desktop/myan_quake_map.html')\n",
    "myan_quake_map.show()"
   ]
  },
  {
   "cell_type": "code",
   "execution_count": null,
   "metadata": {},
   "outputs": [],
   "source": []
  }
 ],
 "metadata": {
  "kernelspec": {
   "display_name": "Python 3",
   "language": "python",
   "name": "python3"
  },
  "language_info": {
   "codemirror_mode": {
    "name": "ipython",
    "version": 3
   },
   "file_extension": ".py",
   "mimetype": "text/x-python",
   "name": "python",
   "nbconvert_exporter": "python",
   "pygments_lexer": "ipython3",
   "version": "3.7.7"
  }
 },
 "nbformat": 4,
 "nbformat_minor": 4
}
