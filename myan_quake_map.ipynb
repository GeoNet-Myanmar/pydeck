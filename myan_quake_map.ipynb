{
 "cells": [
  {
   "cell_type": "code",
   "execution_count": 1,
   "metadata": {},
   "outputs": [],
   "source": [
    "import sys\n",
    "sys.path.append(\"C:/Users/Administrater/AppData/Local/r-miniconda/Lib/site-packages\")\n",
    "import pydeck as pdk\n",
    "import pandas as pd\n",
    "from vega_datasets import data as vds\n",
    "import ipywidgets\n",
    "# use palettable for colormap colors\n",
    "from palettable.cartocolors.sequential import BrwnYl_3\n",
    "import json\n",
    "\n",
    "\n",
    "# enter your api key here\n",
    "# API key required for mapbox basemap tiles\n",
    "MAPBOX_API_KEY = \"pk.eyJ1IjoidGlua29vbyIsImEiOiJja2hkY2xhM3cwMTA1MnFybndqZHlrdDRpIn0.Ise-enYN_cs4pIFmqDQlXw\"\n",
    "\n",
    "# To enable pydeck for Jupyter Notebook:\n",
    "# jupyter nbextension install --sys-prefix --symlink --overwrite --py pydeck\n",
    "# jupyter nbextension enable --sys-prefix --py pydeck"
   ]
  },
  {
   "cell_type": "code",
   "execution_count": 10,
   "metadata": {},
   "outputs": [
    {
     "name": "stdout",
     "output_type": "stream",
     "text": [
      "   longitude  latitude\n",
      "0    93.4817   24.6316\n",
      "1    94.7776   25.6430\n",
      "2    94.4032   20.6448\n",
      "3    93.7675   22.9900\n",
      "4    94.5477   23.3836\n"
     ]
    },
    {
     "data": {
      "application/vnd.jupyter.widget-view+json": {
       "model_id": "8aad8339adf343b69fcc36aba0de1bf2",
       "version_major": 2,
       "version_minor": 0
      },
      "text/plain": [
       "DeckGLWidget(google_maps_key=None, json_input='{\"initialViewState\": {\"latitude\": 22, \"longitude\": -96, \"pitch\"…"
      ]
     },
     "metadata": {},
     "output_type": "display_data"
    }
   ],
   "source": [
    "# data\n",
    "# earthquakes data from kaggle\n",
    "# the earthquakes data only includes latitude and longitude\n",
    "earthquakes = pd.read_csv('C:/Users/Administrater/Desktop/Python 3D Maps with pydeck/earthquake-data.csv')[['longitude','latitude']]\n",
    "print(earthquakes.head())\n",
    "\n",
    "# view (location, zoom level, etc.)\n",
    "view = pdk.ViewState(latitude=22, longitude=-96, pitch=50, zoom=1)\n",
    "\n",
    "# layer\n",
    "hexagon_layer = pdk.Layer('HexagonLayer',\n",
    "                          data=earthquakes,\n",
    "                          get_position=['longitude', 'latitude'],\n",
    "                          auto_highlight=True,\n",
    "                          elevation_scale=50,\n",
    "                          elevation_range=[0, 3_000],\n",
    "                          radius=50_000,\n",
    "                          extruded=True)\n",
    "\n",
    "# render map\n",
    "# with no map_style, map goes to default\n",
    "myan_quake_map = pdk.Deck(layers=hexagon_layer, \n",
    "                             initial_view_state=view,\n",
    "                             mapbox_key=MAPBOX_API_KEY)\n",
    "\n",
    "# display and save map (to_html(), show())\n",
    "myan_quake_map.to_html('C:/Users/Administrater/Desktop/Python 3D Maps with pydeck/myan_quake_map.html')\n",
    "myan_quake_map.show()"
   ]
  },
  {
   "cell_type": "code",
   "execution_count": null,
   "metadata": {},
   "outputs": [],
   "source": []
  }
 ],
 "metadata": {
  "kernelspec": {
   "display_name": "Python 3",
   "language": "python",
   "name": "python3"
  },
  "language_info": {
   "codemirror_mode": {
    "name": "ipython",
    "version": 3
   },
   "file_extension": ".py",
   "mimetype": "text/x-python",
   "name": "python",
   "nbconvert_exporter": "python",
   "pygments_lexer": "ipython3",
   "version": "3.7.7"
  }
 },
 "nbformat": 4,
 "nbformat_minor": 4
}
